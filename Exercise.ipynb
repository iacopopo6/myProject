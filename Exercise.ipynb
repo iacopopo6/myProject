{
 "cells": [
  {
   "cell_type": "code",
   "execution_count": 4,
   "id": "00166fc8",
   "metadata": {},
   "outputs": [],
   "source": [
    "\n",
    "from collections import defaultdict\n",
    "\n",
    "text = \"data engineering is cool and data is powerful\"\n",
    "\n",
    "def word_frequency(text: str) -> dict:\n",
    "    \n",
    "    result = {}\n",
    "\n",
    "    for w in text.split():\n",
    "\n",
    "        if w in result:\n",
    "    \n",
    "            result[w] +=1\n",
    "        else:\n",
    "            result[w] = 1\n",
    "\n",
    "    return result\n",
    "        "
   ]
  },
  {
   "cell_type": "code",
   "execution_count": 5,
   "id": "57868ba9",
   "metadata": {},
   "outputs": [
    {
     "data": {
      "text/plain": [
       "{'data': 2, 'engineering': 1, 'is': 2, 'cool': 1, 'and': 1, 'powerful': 1}"
      ]
     },
     "execution_count": 5,
     "metadata": {},
     "output_type": "execute_result"
    }
   ],
   "source": [
    "word_frequency(text)"
   ]
  },
  {
   "cell_type": "code",
   "execution_count": 6,
   "id": "bc474fe2",
   "metadata": {},
   "outputs": [],
   "source": [
    "emails = [\n",
    "    \"alice@gmail.com\",\n",
    "    \"bob@yahoo.com\",\n",
    "    \"carol@gmail.com\",\n",
    "    \"dan@outlook.com\",\n",
    "    \"erin@yahoo.com\",\n",
    "    \"frank@gmail.com\"\n",
    "]\n",
    "\n",
    "def count_domains(emails: list[str]) -> dict:\n",
    "\n",
    "    result = {}\n",
    "\n",
    "    for email in emails :\n",
    "\n",
    "        dom = email.split(\"@\")\n",
    "        dom = dom[1]\n",
    "        if dom in result:\n",
    "            result[dom] +=1\n",
    "        else:\n",
    "            result[dom] = 1\n",
    "\n",
    "    return result"
   ]
  },
  {
   "cell_type": "code",
   "execution_count": 7,
   "id": "becb1657",
   "metadata": {},
   "outputs": [
    {
     "data": {
      "text/plain": [
       "{'gmail.com': 3, 'yahoo.com': 2, 'outlook.com': 1}"
      ]
     },
     "execution_count": 7,
     "metadata": {},
     "output_type": "execute_result"
    }
   ],
   "source": [
    "count_domains(emails)"
   ]
  },
  {
   "cell_type": "code",
   "execution_count": 8,
   "id": "3b785c4b",
   "metadata": {},
   "outputs": [],
   "source": [
    "text = \"Data engineering delivers durable and dynamic data pipelines daily.\"\n",
    "\n",
    "def count_first_letters(text: str) -> dict:\n",
    "\n",
    "    result = {}\n",
    "\n",
    "    for word in text.split():\n",
    "        clean_word = word.lower().strip(\".,!?\")\n",
    "        \n",
    "        first_letter = clean_word[0]\n",
    "\n",
    "        if first_letter in result:\n",
    "            result[first_letter] += 1\n",
    "        else:\n",
    "            result[first_letter] = 1\n",
    "\n",
    "    return result    \n",
    "            "
   ]
  },
  {
   "cell_type": "code",
   "execution_count": 9,
   "id": "8d9a5017",
   "metadata": {},
   "outputs": [
    {
     "data": {
      "text/plain": [
       "{'d': 6, 'e': 1, 'a': 1, 'p': 1}"
      ]
     },
     "execution_count": 9,
     "metadata": {},
     "output_type": "execute_result"
    }
   ],
   "source": [
    "count_first_letters(text)"
   ]
  },
  {
   "cell_type": "code",
   "execution_count": 10,
   "id": "8573d549",
   "metadata": {},
   "outputs": [],
   "source": [
    "\n",
    "def count_word_lengths(text: str) -> dict:\n",
    "    \n",
    "    result = {}\n",
    "\n",
    "    for w in text.split():\n",
    "        count = len(w)\n",
    "\n",
    "        result[w] = count\n",
    "    \n",
    "    return result\n"
   ]
  },
  {
   "cell_type": "code",
   "execution_count": 11,
   "id": "f2766305",
   "metadata": {},
   "outputs": [
    {
     "data": {
      "text/plain": [
       "{'Data': 4,\n",
       " 'engineering': 11,\n",
       " 'delivers': 8,\n",
       " 'durable': 7,\n",
       " 'and': 3,\n",
       " 'dynamic': 7,\n",
       " 'data': 4,\n",
       " 'pipelines': 9,\n",
       " 'daily.': 6}"
      ]
     },
     "execution_count": 11,
     "metadata": {},
     "output_type": "execute_result"
    }
   ],
   "source": [
    "count_word_lengths(text)"
   ]
  },
  {
   "cell_type": "code",
   "execution_count": 12,
   "id": "60fdf82f",
   "metadata": {},
   "outputs": [],
   "source": [
    "files = [\n",
    "    \"data.csv\", \"report.pdf\", \"image.png\", \"archive.zip\",\n",
    "    \"data_backup.csv\", \"notes.txt\", \"slides.pdf\", \"image2.png\"\n",
    "]\n",
    "\n",
    "def count_extensions(files: list[str]) -> dict:\n",
    "    \n",
    "    result = {}\n",
    "\n",
    "    for file in files:\n",
    "        type = file[-3:]\n",
    "        if type in result:\n",
    "            result[type] +=1\n",
    "        else:\n",
    "            result[type] = 1\n",
    "    \n",
    "    return result"
   ]
  },
  {
   "cell_type": "code",
   "execution_count": 13,
   "id": "0c392b83",
   "metadata": {},
   "outputs": [
    {
     "data": {
      "text/plain": [
       "{'csv': 2, 'pdf': 2, 'png': 2, 'zip': 1, 'txt': 1}"
      ]
     },
     "execution_count": 13,
     "metadata": {},
     "output_type": "execute_result"
    }
   ],
   "source": [
    "count_extensions(files)"
   ]
  },
  {
   "cell_type": "code",
   "execution_count": 14,
   "id": "d91d996f",
   "metadata": {},
   "outputs": [],
   "source": [
    "logs = [\n",
    "    \"2024-05-21 12:45:03 INFO Starting ETL job\",\n",
    "    \"2024-05-21 12:45:04 DEBUG Extracting data\",\n",
    "    \"2024-05-21 12:45:10 ERROR Failed to connect to database\",\n",
    "    \"2024-05-21 12:45:12 INFO Retrying connection\",\n",
    "    \"2024-05-21 12:45:15 ERROR Timeout occurred\",\n",
    "    \"2024-05-21 12:45:18 DEBUG Retrying...\",\n",
    "    \"2024-05-21 12:45:20 INFO ETL job completed\"\n",
    "]\n",
    "\n",
    "def count_log_levels(logs: list[str]) -> dict:\n",
    "\n",
    "    result = {}\n",
    "\n",
    "    for s in logs:\n",
    "        s = s.split()\n",
    "        log = s[2]\n",
    "        if log in result:\n",
    "            result[log] +=1\n",
    "        else:\n",
    "            result[log] = 1\n",
    "    \n",
    "    return result\n"
   ]
  },
  {
   "cell_type": "code",
   "execution_count": 15,
   "id": "a5b15c4a",
   "metadata": {},
   "outputs": [
    {
     "data": {
      "text/plain": [
       "{'INFO': 3, 'DEBUG': 2, 'ERROR': 2}"
      ]
     },
     "execution_count": 15,
     "metadata": {},
     "output_type": "execute_result"
    }
   ],
   "source": [
    "count_log_levels(logs)"
   ]
  },
  {
   "cell_type": "code",
   "execution_count": 16,
   "id": "00fcd1e5",
   "metadata": {},
   "outputs": [],
   "source": [
    "from datetime import date , datetime \n",
    "\n",
    "dates = [\n",
    "    \"2024-05-01\", \"2024-05-21\", \"2024-06-03\",\n",
    "    \"2024-06-10\", \"2024-07-04\", \"2024-05-18\"\n",
    "]\n",
    "\n",
    "def count_months(dates: list[str]) -> dict:\n",
    "    \n",
    "    result = {}\n",
    "\n",
    "    for date in dates:\n",
    "\n",
    "        dates = date.split('-')\n",
    "        month = dates[1]\n",
    "        if month in result:\n",
    "            result[month] += [date]\n",
    "        else:\n",
    "            result[month] = [date]\n",
    "    return result\n",
    "        "
   ]
  },
  {
   "cell_type": "code",
   "execution_count": 17,
   "id": "b7a075d3",
   "metadata": {},
   "outputs": [
    {
     "data": {
      "text/plain": [
       "{'05': ['2024-05-01', '2024-05-21', '2024-05-18'],\n",
       " '06': ['2024-06-03', '2024-06-10'],\n",
       " '07': ['2024-07-04']}"
      ]
     },
     "execution_count": 17,
     "metadata": {},
     "output_type": "execute_result"
    }
   ],
   "source": [
    "count_months(dates)"
   ]
  },
  {
   "cell_type": "code",
   "execution_count": 18,
   "id": "c86e97fc",
   "metadata": {},
   "outputs": [],
   "source": [
    "logs = [\n",
    "    \"2025-06-01 08:45:00 user:alice action:login\",\n",
    "    \"2025-06-01 09:12:14 user:bob action:view\",\n",
    "    \"2025-06-01 09:18:09 user:alice action:view\",\n",
    "    \"2025-06-01 10:05:30 user:carol action:logout\",\n",
    "    \"2025-06-01 10:15:45 user:bob action:logout\",\n",
    "    \"2025-06-01 10:18:02 user:alice action:logout\"\n",
    "]\n",
    "\n",
    "def group_actions_by_user(logs: list[str]) -> dict:\n",
    "\n",
    "    result = {}\n",
    "\n",
    "    for log in logs:\n",
    "\n",
    "        split = log.split()\n",
    "        user = split[2]\n",
    "        user = user.lstrip('user:')\n",
    "        action = split[3]\n",
    "        action = action.lstrip('action:')\n",
    "        if user not in result:\n",
    "            result[user] = []\n",
    "            result[user].append(action)\n",
    "        else: \n",
    "            result[user].append(action)\n",
    "        \n",
    "    return result\n"
   ]
  },
  {
   "cell_type": "code",
   "execution_count": 19,
   "id": "dfad0619",
   "metadata": {},
   "outputs": [
    {
     "data": {
      "text/plain": [
       "{'alice': ['login', 'view', 'logout'],\n",
       " 'bob': ['view', 'logout'],\n",
       " 'carol': ['logout']}"
      ]
     },
     "execution_count": 19,
     "metadata": {},
     "output_type": "execute_result"
    }
   ],
   "source": [
    "group_actions_by_user(logs)"
   ]
  },
  {
   "cell_type": "code",
   "execution_count": 20,
   "id": "29eb41b2",
   "metadata": {},
   "outputs": [],
   "source": [
    "def group_by_date_and_user(logs: list[str]) -> dict:\n",
    "\n",
    "    result = {}\n",
    "\n",
    "    for log in logs:\n",
    "        split = log.split()\n",
    "        ex_date = split[0]\n",
    "        user = split[2]\n",
    "        user = user.lstrip('user:')\n",
    "        action = split[3]\n",
    "        action = action.lstrip('action:')\n",
    "        if ex_date not in result:\n",
    "            result[ex_date] = {}\n",
    "        if user not in result[ex_date]:\n",
    "\n",
    "            result[ex_date][user] = []\n",
    "        \n",
    "        result[ex_date][user].append(action)\n",
    "            \n",
    "        \n",
    "    return result\n",
    "    "
   ]
  },
  {
   "cell_type": "code",
   "execution_count": 21,
   "id": "5296f8df",
   "metadata": {},
   "outputs": [
    {
     "data": {
      "text/plain": [
       "{'2025-06-01': {'alice': ['login', 'view', 'logout'],\n",
       "  'bob': ['view', 'logout'],\n",
       "  'carol': ['logout']}}"
      ]
     },
     "execution_count": 21,
     "metadata": {},
     "output_type": "execute_result"
    }
   ],
   "source": [
    "group_by_date_and_user(logs)"
   ]
  },
  {
   "cell_type": "code",
   "execution_count": 22,
   "id": "f5246bf6",
   "metadata": {},
   "outputs": [],
   "source": [
    "def count_logins_by_user(logs: list[str]) -> dict:\n",
    "\n",
    "    result = {}\n",
    "\n",
    "    for log in logs:\n",
    "        split = log.split()\n",
    "        user = split[2]\n",
    "        user = user.lstrip('user:')\n",
    "        action = split[3]\n",
    "        action = action.lstrip('action:')\n",
    "        if action == 'login':\n",
    "            if user in result:\n",
    "                result[user] += 1\n",
    "            else:\n",
    "                result[user] = 1\n",
    "    return result"
   ]
  },
  {
   "cell_type": "code",
   "execution_count": 23,
   "id": "43bd329c",
   "metadata": {},
   "outputs": [
    {
     "data": {
      "text/plain": [
       "{'alice': 1}"
      ]
     },
     "execution_count": 23,
     "metadata": {},
     "output_type": "execute_result"
    }
   ],
   "source": [
    "count_logins_by_user(logs)\n"
   ]
  },
  {
   "cell_type": "code",
   "execution_count": 24,
   "id": "a2e98fd5",
   "metadata": {},
   "outputs": [],
   "source": [
    "\n",
    "api_response = {\n",
    "    \"users\": [\n",
    "        {\n",
    "            \"id\": 1,\n",
    "            \"name\": \"Alice\",\n",
    "            \"activities\": [\n",
    "                {\"type\": \"login\", \"timestamp\": \"2025-06-01T08:00:00\"},\n",
    "                {\"type\": \"view\", \"timestamp\": \"2025-06-01T08:05:00\"},\n",
    "                {\"type\": \"logout\", \"timestamp\": \"2025-06-01T08:10:00\"}\n",
    "            ]\n",
    "        },\n",
    "        {\n",
    "            \"id\": 2,\n",
    "            \"name\": \"Bob\",\n",
    "            \"activities\": [\n",
    "                {\"type\": \"login\", \"timestamp\": \"2025-06-01T09:00:00\"},\n",
    "                {\"type\": \"view\", \"timestamp\": \"2025-06-01T09:05:00\"}\n",
    "            ]\n",
    "        }\n",
    "    ]\n",
    "}\n",
    "\n",
    "def transform_user_activity(api_response: dict) -> list[dict]:\n",
    "\n",
    "    result = []\n",
    "\n",
    "    for user in api_response.get(\"users\"):\n",
    "\n",
    "        user_id = user[\"id\"]\n",
    "        user_name = user[\"name\"]\n",
    "\n",
    "        for activity in user[\"activities\"]:\n",
    "\n",
    "            activity_type = activity[\"type\"]\n",
    "            activity_time = activity[\"timestamp\"]\n",
    "\n",
    "            result.append({\"user_id\": user_id,\n",
    "                           \"user_name\": user_name,\n",
    "                           \"activity_type\": activity_type,\n",
    "                           \"activity_time\": activity_time})\n",
    "            \n",
    "    return result\n",
    "        \n"
   ]
  },
  {
   "cell_type": "code",
   "execution_count": 25,
   "id": "044481b6",
   "metadata": {},
   "outputs": [
    {
     "data": {
      "text/plain": [
       "[{'user_id': 1,\n",
       "  'user_name': 'Alice',\n",
       "  'activity_type': 'login',\n",
       "  'activity_time': '2025-06-01T08:00:00'},\n",
       " {'user_id': 1,\n",
       "  'user_name': 'Alice',\n",
       "  'activity_type': 'view',\n",
       "  'activity_time': '2025-06-01T08:05:00'},\n",
       " {'user_id': 1,\n",
       "  'user_name': 'Alice',\n",
       "  'activity_type': 'logout',\n",
       "  'activity_time': '2025-06-01T08:10:00'},\n",
       " {'user_id': 2,\n",
       "  'user_name': 'Bob',\n",
       "  'activity_type': 'login',\n",
       "  'activity_time': '2025-06-01T09:00:00'},\n",
       " {'user_id': 2,\n",
       "  'user_name': 'Bob',\n",
       "  'activity_type': 'view',\n",
       "  'activity_time': '2025-06-01T09:05:00'}]"
      ]
     },
     "execution_count": 25,
     "metadata": {},
     "output_type": "execute_result"
    }
   ],
   "source": [
    "transform_user_activity(api_response)"
   ]
  },
  {
   "cell_type": "code",
   "execution_count": 26,
   "id": "ea564867",
   "metadata": {},
   "outputs": [],
   "source": [
    "api_response = {\n",
    "    \"customers\": [\n",
    "        {\n",
    "            \"id\": 1,\n",
    "            \"name\": \"Alice\",\n",
    "            \"orders\": [\n",
    "                {\n",
    "                    \"order_id\": 101,\n",
    "                    \"items\": [\n",
    "                        {\"product\": \"Laptop\", \"price\": 1200, \"quantity\": 1, \"discount\": 0.1},\n",
    "                        {\"product\": \"Mouse\", \"price\": 25, \"quantity\": 2, \"discount\": 0}\n",
    "                    ]\n",
    "                },\n",
    "                {\n",
    "                    \"order_id\": 102,\n",
    "                    \"items\": [\n",
    "                        {\"product\": \"Keyboard\", \"price\": 75, \"quantity\": 1, \"discount\": 0.05}\n",
    "                    ]\n",
    "                }\n",
    "            ]\n",
    "        },\n",
    "        {\n",
    "            \"id\": 2,\n",
    "            \"name\": \"Bob\",\n",
    "            \"orders\": [\n",
    "                {\n",
    "                    \"order_id\": 103,\n",
    "                    \"items\": [\n",
    "                        {\"product\": \"Monitor\", \"price\": 200, \"quantity\": 2, \"discount\": 0.15}\n",
    "                    ]\n",
    "                }\n",
    "            ]\n",
    "        }\n",
    "    ]\n",
    "}\n",
    "\n",
    "def transform_and_aggregate_orders(api_response: dict) -> tuple[list[dict], dict]:\n",
    "    \n",
    "    result = []\n",
    "    total_spent = {}\n",
    "\n",
    "    for customer in api_response.get(\"customers\"):\n",
    "        id = customer[\"id\"]\n",
    "        name = customer[\"name\"]\n",
    "\n",
    "        for order in customer[\"orders\"]:\n",
    "            order_id = order[\"order_id\"]\n",
    "            items = order[\"items\"]\n",
    "            for item in items:\n",
    "                product = item['product']\n",
    "                price = item['price']\n",
    "                quantity = item['quantity']\n",
    "                discount = item['discount']\n",
    "                price_discounted = price * discount\n",
    "                final_price = (price - price_discounted) * quantity\n",
    "                \n",
    "                if name in total_spent :\n",
    "                    total_spent[name] += final_price\n",
    "                else:\n",
    "                    total_spent[name] = final_price\n",
    "\n",
    "                result.append({\"customer_id\": id,\n",
    "                               'customer_name': name,\n",
    "                               'order_id': order_id,\n",
    "                               'product': product,\n",
    "                               'quantity': quantity,\n",
    "                               'price': price,\n",
    "                               'discount': discount,\n",
    "                               'final_price': final_price})\n",
    "        \n",
    "    return  result , total_spent"
   ]
  },
  {
   "cell_type": "code",
   "execution_count": 27,
   "id": "fb00d6b6",
   "metadata": {},
   "outputs": [
    {
     "data": {
      "text/plain": [
       "([{'customer_id': 1,\n",
       "   'customer_name': 'Alice',\n",
       "   'order_id': 101,\n",
       "   'product': 'Laptop',\n",
       "   'quantity': 1,\n",
       "   'price': 1200,\n",
       "   'discount': 0.1,\n",
       "   'final_price': 1080.0},\n",
       "  {'customer_id': 1,\n",
       "   'customer_name': 'Alice',\n",
       "   'order_id': 101,\n",
       "   'product': 'Mouse',\n",
       "   'quantity': 2,\n",
       "   'price': 25,\n",
       "   'discount': 0,\n",
       "   'final_price': 50},\n",
       "  {'customer_id': 1,\n",
       "   'customer_name': 'Alice',\n",
       "   'order_id': 102,\n",
       "   'product': 'Keyboard',\n",
       "   'quantity': 1,\n",
       "   'price': 75,\n",
       "   'discount': 0.05,\n",
       "   'final_price': 71.25},\n",
       "  {'customer_id': 2,\n",
       "   'customer_name': 'Bob',\n",
       "   'order_id': 103,\n",
       "   'product': 'Monitor',\n",
       "   'quantity': 2,\n",
       "   'price': 200,\n",
       "   'discount': 0.15,\n",
       "   'final_price': 340.0}],\n",
       " {'Alice': 1201.25, 'Bob': 340.0})"
      ]
     },
     "execution_count": 27,
     "metadata": {},
     "output_type": "execute_result"
    }
   ],
   "source": [
    "transform_and_aggregate_orders(api_response)"
   ]
  },
  {
   "cell_type": "code",
   "execution_count": 28,
   "id": "2fa59dae",
   "metadata": {},
   "outputs": [],
   "source": [
    "from bs4 import BeautifulSoup\n",
    "\n",
    "html_content = \"\"\"\n",
    "<html>\n",
    "  <head><title>Fake Store</title></head>\n",
    "  <body>\n",
    "    <div class=\"product\" data-id=\"101\">\n",
    "      <h2 class=\"name\">Wireless Mouse</h2>\n",
    "      <span class=\"price\">$25.99</span>\n",
    "    </div>\n",
    "    <div class=\"product\" data-id=\"102\">\n",
    "      <h2 class=\"name\">Mechanical Keyboard</h2>\n",
    "      <span class=\"price\">$79.49</span>\n",
    "    </div>\n",
    "    <div class=\"product\" data-id=\"103\">\n",
    "      <h2 class=\"name\">USB-C Hub</h2>\n",
    "      <span class=\"price\">$34.10</span>\n",
    "    </div>\n",
    "  </body>\n",
    "</html>\n",
    "\"\"\"\n",
    "\n",
    "def extract_products(html: str) -> list[dict]:\n",
    "    result = []\n",
    "    soup = BeautifulSoup(html, 'html.parser')\n",
    "\n",
    "    for div in soup.find_all('div', class_=\"product\"):\n",
    "        data_id = div.get(\"data-id\")\n",
    "        h2 = div.find('h2', class_=\"name\")\n",
    "        span = div.find('span', class_='price')\n",
    "\n",
    "        product = h2.string.strip()\n",
    "        price = float(span.string.lstrip('$'))\n",
    "\n",
    "        result.append({\n",
    "            'id': data_id,\n",
    "            'product': product,\n",
    "            'price': price\n",
    "        })\n",
    "\n",
    "    return result\n"
   ]
  },
  {
   "cell_type": "code",
   "execution_count": 29,
   "id": "76b2b522",
   "metadata": {},
   "outputs": [
    {
     "data": {
      "text/plain": [
       "[{'id': '101', 'product': 'Wireless Mouse', 'price': 25.99},\n",
       " {'id': '102', 'product': 'Mechanical Keyboard', 'price': 79.49},\n",
       " {'id': '103', 'product': 'USB-C Hub', 'price': 34.1}]"
      ]
     },
     "execution_count": 29,
     "metadata": {},
     "output_type": "execute_result"
    }
   ],
   "source": [
    "extract_products(html_content)"
   ]
  },
  {
   "cell_type": "code",
   "execution_count": 30,
   "id": "91cc9dea",
   "metadata": {},
   "outputs": [],
   "source": [
    "html_content = \"\"\"\n",
    "<html>\n",
    "  <head><title>Fake Store</title></head>\n",
    "  <body>\n",
    "    <div class=\"product\" data-id=\"101\">\n",
    "      <h2 class=\"name\">Wireless Mouse</h2>\n",
    "      <span class=\"price\">$25.99</span>\n",
    "    </div>\n",
    "    <div class=\"product\" data-id=\"102\">\n",
    "      <h2 class=\"name\">Mechanical Keyboard</h2>\n",
    "      <span class=\"price\">$79.49</span>\n",
    "    </div>\n",
    "    <div class=\"product\" data-id=\"103\">\n",
    "      <h2 class=\"name\">usb-c hub</h2>\n",
    "      <span class=\"price\">$34.10</span>\n",
    "    </div>\n",
    "    <div class=\"product\" data-id=\"104\">\n",
    "      <h2 class=\"name\">Budget Mouse</h2>\n",
    "      <span class=\"price\">$12.99</span>\n",
    "    </div>\n",
    "  </body>\n",
    "</html>\n",
    "\"\"\"\n",
    "def extract_products(html: str) -> list[dict]:\n",
    "    \"\"\"\n",
    "    Parses raw HTML and returns raw product info with 'id', 'name', 'price' as strings.\n",
    "    Example: {\"id\": \"101\", \"name\": \"Wireless Mouse\", \"price\": \"$25.99\"}\n",
    "    \"\"\"\n",
    "\n",
    "    result = []\n",
    "\n",
    "    soup = BeautifulSoup(html, 'html')\n",
    "\n",
    "    for div in soup.find_all('div', class_=\"product\"):\n",
    "\n",
    "        id = div.get('data-id')\n",
    "        h2 = div.find('h2', class_=\"name\")\n",
    "        product = h2.string.strip()\n",
    "        span = div.find('span', class_=\"price\")\n",
    "        price = span.string.lstrip('$')\n",
    "        \n",
    "        result.append({'id': id,\n",
    "                      'product': product,\n",
    "                      'price': price})\n",
    "    \n",
    "    return result\n",
    "\n",
    "def format_products(raw_products: list[dict]) -> list[dict]:\n",
    "    \"\"\"\n",
    "    Takes raw product records and returns cleaned ones:\n",
    "    - 'id' stays as string\n",
    "    - 'name' is title-cased\n",
    "    - 'price' is a float\n",
    "    \"\"\"\n"
   ]
  },
  {
   "cell_type": "code",
   "execution_count": 31,
   "id": "c2ed679c",
   "metadata": {},
   "outputs": [
    {
     "data": {
      "text/plain": [
       "[{'id': '101', 'product': 'Wireless Mouse', 'price': '25.99'},\n",
       " {'id': '102', 'product': 'Mechanical Keyboard', 'price': '79.49'},\n",
       " {'id': '103', 'product': 'usb-c hub', 'price': '34.10'},\n",
       " {'id': '104', 'product': 'Budget Mouse', 'price': '12.99'}]"
      ]
     },
     "execution_count": 31,
     "metadata": {},
     "output_type": "execute_result"
    }
   ],
   "source": [
    "raw_products = extract_products(html_content)\n",
    "raw_products"
   ]
  },
  {
   "cell_type": "code",
   "execution_count": 32,
   "id": "378d52f7",
   "metadata": {},
   "outputs": [],
   "source": [
    "def format_products(raw_products: list[dict]) -> list[dict]:\n",
    "    \"\"\"\n",
    "    Takes raw product records and returns cleaned ones:\n",
    "    - 'id' stays as string\n",
    "    - 'name' is title-cased\n",
    "    - 'price' is a float\n",
    "    \"\"\"\n",
    "    result = []\n",
    "\n",
    "    for product in raw_products:\n",
    "\n",
    "        id = product['id']\n",
    "        cap = product['product']\n",
    "        cap = cap.capitalize()\n",
    "        price = product['price']\n",
    "        price_float = float(price)\n",
    "\n",
    "        result.append({'id': id,\n",
    "                      'product': cap,\n",
    "                      'price': price_float})\n",
    "    \n",
    "    return result"
   ]
  },
  {
   "cell_type": "code",
   "execution_count": 33,
   "id": "86df8876",
   "metadata": {},
   "outputs": [
    {
     "data": {
      "text/plain": [
       "[{'id': '101', 'product': 'Wireless mouse', 'price': 25.99},\n",
       " {'id': '102', 'product': 'Mechanical keyboard', 'price': 79.49},\n",
       " {'id': '103', 'product': 'Usb-c hub', 'price': 34.1},\n",
       " {'id': '104', 'product': 'Budget mouse', 'price': 12.99}]"
      ]
     },
     "execution_count": 33,
     "metadata": {},
     "output_type": "execute_result"
    }
   ],
   "source": [
    "products = format_products(raw_products)\n",
    "products"
   ]
  },
  {
   "cell_type": "code",
   "execution_count": 34,
   "id": "b7de59ca",
   "metadata": {},
   "outputs": [],
   "source": [
    "def group_by_price_range(products: list[dict]) -> dict:\n",
    "    \"\"\"\n",
    "    Groups products into 'budget', 'midrange', or 'premium' buckets based on price:\n",
    "    - budget: < $30\n",
    "    - midrange: $30–$60\n",
    "    - premium: > $60\n",
    "    Returns a dictionary with three keys, each mapping to a list of product dicts.\n",
    "    \"\"\"\n",
    "    result = {'budget': [],\n",
    "              'midrange': [],\n",
    "              'premium': []}\n",
    "\n",
    "    for product in products:\n",
    "\n",
    "        price = product['price']\n",
    "        \n",
    "        if price < 30 :\n",
    "            result['budget'].append(product)\n",
    "        \n",
    "        if price >= 30 and price < 60 :\n",
    "            result['midrange'].append(product)\n",
    "\n",
    "        if price >= 60:\n",
    "            result['premium'].append(product)\n",
    "    \n",
    "    return result"
   ]
  },
  {
   "cell_type": "code",
   "execution_count": 36,
   "id": "9d7bff89",
   "metadata": {},
   "outputs": [
    {
     "data": {
      "text/plain": [
       "{'budget': [{'id': '101', 'product': 'Wireless mouse', 'price': 25.99},\n",
       "  {'id': '104', 'product': 'Budget mouse', 'price': 12.99}],\n",
       " 'midrange': [{'id': '103', 'product': 'Usb-c hub', 'price': 34.1}],\n",
       " 'premium': [{'id': '102', 'product': 'Mechanical keyboard', 'price': 79.49}]}"
      ]
     },
     "execution_count": 36,
     "metadata": {},
     "output_type": "execute_result"
    }
   ],
   "source": [
    "group_by_price_range(products)"
   ]
  },
  {
   "cell_type": "code",
   "execution_count": 252,
   "id": "b459b4cd",
   "metadata": {},
   "outputs": [],
   "source": [
    "raw_data = {\n",
    "    \"customers\": [\n",
    "        {\n",
    "            \"id\": \"u001\",\n",
    "            \"profile\": {\"name\": \"alice\", \"country\": \"us\"},\n",
    "            \"orders\": [\n",
    "                {\"order_id\": \"o1001\", \"amount\": \"30.5\", \"currency\": \"USD\"},\n",
    "                {\"order_id\": \"o1002\", \"amount\": \"42\", \"currency\": \"usd\"}\n",
    "            ]\n",
    "        },\n",
    "        {\n",
    "            \"id\": \"u002\",\n",
    "            \"profile\": {\"name\": \"BOB\", \"country\": \"UK\"},\n",
    "            \"orders\": [\n",
    "                {\"order_id\": \"o1003\", \"amount\": 75.2, \"currency\": \"GBP\"}\n",
    "            ]\n",
    "        },\n",
    "        {\n",
    "            \"id\": \"u003\",\n",
    "            \"profile\": {\"name\": \"\", \"country\": \"de\"},\n",
    "            \"orders\": [\n",
    "                {\"order_id\": \"o1004\", \"amount\": \"invalid\", \"currency\": \"EUR\"}\n",
    "            ]\n",
    "        },\n",
    "        {\n",
    "            \"id\": \"u004\",\n",
    "            \"profile\": {\"name\": \"dave\"},\n",
    "            \"orders\": [\n",
    "                {\"order_id\": \"o1005\", \"amount\": 12.75, \"currency\": \"CAD\"}\n",
    "            ]\n",
    "        },\n",
    "        {\n",
    "            \"id\": \"u005\",\n",
    "            \"profile\": {\"name\": \"hana\", \"country\": \"jp\"},\n",
    "            \"orders\": []\n",
    "        },\n",
    "        {\n",
    "            \"id\": \"u006\",\n",
    "            \"profile\": {\"name\": \"erin\", \"country\": \"us\"},\n",
    "            \"orders\": [\n",
    "                {\"order_id\": \"o1006\", \"amount\": None, \"currency\": \"USD\"}\n",
    "            ]\n",
    "        }\n",
    "    ]\n",
    "}\n",
    "\n",
    "def extract_orders(raw_data: dict) -> list[dict] :\n",
    "\n",
    "    result = []\n",
    "\n",
    "    for cus in raw_data.get('customers'):\n",
    "\n",
    "        id = cus['id']\n",
    "        profile = cus['profile']\n",
    "        name = profile['name'].capitalize()\n",
    "        if name == None or name == \"\":\n",
    "\n",
    "            name = \"Unknown_name\"\n",
    "        country = profile.get('country')\n",
    "\n",
    "        if country :\n",
    "            country = country.upper()\n",
    "        else:\n",
    "            country = \"N/A\"\n",
    "\n",
    "        orders = cus.get('orders',[])\n",
    "        for order in orders:\n",
    "            order_id = order.get('order_id')\n",
    "            if not order_id:\n",
    "                continue\n",
    "\n",
    "            amount = order.get('amount', None)\n",
    "            currency = order.get('currency', None).upper()\n",
    "            \n",
    "            result.append({\"customer_id\": id,\n",
    "                            \"name\": name,\n",
    "                            \"country\": country,\n",
    "                            \"order_id\": order_id,\n",
    "                            \"amount\": amount,\n",
    "                            \"currency\": currency})\n",
    "    \n",
    "    return result\n"
   ]
  },
  {
   "cell_type": "code",
   "execution_count": 253,
   "id": "6664d65b",
   "metadata": {},
   "outputs": [],
   "source": [
    "data = extract_orders(raw_data)\n",
    "\n",
    "def normalize_orders(orders: list[dict]) -> list[dict]:\n",
    "\n",
    "    result = []\n",
    "\n",
    "    for order in orders:\n",
    "\n",
    "        is_valid = True  \n",
    "\n",
    "        amount = order.get('amount')\n",
    "        name = order.get('name')\n",
    "        order_id = order.get('order_id')\n",
    "        country = order.get('country')\n",
    "        currency = order.get('currency')\n",
    "        user_id = order.get('customer_id')\n",
    "\n",
    "        try:\n",
    "            amount = float(amount)\n",
    "        except (TypeError, ValueError):\n",
    "            print(f\"Amount not valid for {name}, {amount}\")\n",
    "            is_valid = False\n",
    "\n",
    "        if not name or name == 'Unknown_name':\n",
    "            is_valid = False\n",
    "\n",
    "        if not country or country == 'N/A':\n",
    "            is_valid = False\n",
    "\n",
    "        result.append({\n",
    "            \"user_id\": user_id,\n",
    "            \"user_name\": name,\n",
    "            \"country\": country,\n",
    "            \"order_id\": order_id,\n",
    "            \"amount\": amount,\n",
    "            \"currency\": currency,\n",
    "            \"valid\": is_valid\n",
    "        })\n",
    "\n",
    "    return result\n",
    "      "
   ]
  },
  {
   "cell_type": "code",
   "execution_count": 254,
   "id": "f24396bf",
   "metadata": {},
   "outputs": [
    {
     "name": "stdout",
     "output_type": "stream",
     "text": [
      "Amount not valid for Unknown_name, invalid\n",
      "Amount not valid for Erin, None\n"
     ]
    }
   ],
   "source": [
    "import pandas as pd\n",
    "\n",
    "data = normalize_orders(data)\n",
    "\n",
    "def filter_valid_orders(orders: list[dict]) -> pd.DataFrame:\n",
    "\n",
    "    result = []\n",
    "\n",
    "    for order in orders:\n",
    "\n",
    "        valid_orders = order['valid']\n",
    "\n",
    "        if valid_orders == True:\n",
    "\n",
    "            result.append({**order})\n",
    "\n",
    "    result = pd.DataFrame(result)\n",
    "    return result"
   ]
  },
  {
   "cell_type": "code",
   "execution_count": 255,
   "id": "ebc2bfc1",
   "metadata": {},
   "outputs": [
    {
     "data": {
      "text/html": [
       "<div>\n",
       "<style scoped>\n",
       "    .dataframe tbody tr th:only-of-type {\n",
       "        vertical-align: middle;\n",
       "    }\n",
       "\n",
       "    .dataframe tbody tr th {\n",
       "        vertical-align: top;\n",
       "    }\n",
       "\n",
       "    .dataframe thead th {\n",
       "        text-align: right;\n",
       "    }\n",
       "</style>\n",
       "<table border=\"1\" class=\"dataframe\">\n",
       "  <thead>\n",
       "    <tr style=\"text-align: right;\">\n",
       "      <th></th>\n",
       "      <th>user_id</th>\n",
       "      <th>user_name</th>\n",
       "      <th>country</th>\n",
       "      <th>order_id</th>\n",
       "      <th>amount</th>\n",
       "      <th>currency</th>\n",
       "      <th>valid</th>\n",
       "    </tr>\n",
       "  </thead>\n",
       "  <tbody>\n",
       "    <tr>\n",
       "      <th>0</th>\n",
       "      <td>u001</td>\n",
       "      <td>Alice</td>\n",
       "      <td>US</td>\n",
       "      <td>o1001</td>\n",
       "      <td>30.5</td>\n",
       "      <td>USD</td>\n",
       "      <td>True</td>\n",
       "    </tr>\n",
       "    <tr>\n",
       "      <th>1</th>\n",
       "      <td>u001</td>\n",
       "      <td>Alice</td>\n",
       "      <td>US</td>\n",
       "      <td>o1002</td>\n",
       "      <td>42.0</td>\n",
       "      <td>USD</td>\n",
       "      <td>True</td>\n",
       "    </tr>\n",
       "    <tr>\n",
       "      <th>2</th>\n",
       "      <td>u002</td>\n",
       "      <td>Bob</td>\n",
       "      <td>UK</td>\n",
       "      <td>o1003</td>\n",
       "      <td>75.2</td>\n",
       "      <td>GBP</td>\n",
       "      <td>True</td>\n",
       "    </tr>\n",
       "  </tbody>\n",
       "</table>\n",
       "</div>"
      ],
      "text/plain": [
       "  user_id user_name country order_id  amount currency  valid\n",
       "0    u001     Alice      US    o1001    30.5      USD   True\n",
       "1    u001     Alice      US    o1002    42.0      USD   True\n",
       "2    u002       Bob      UK    o1003    75.2      GBP   True"
      ]
     },
     "metadata": {},
     "output_type": "display_data"
    }
   ],
   "source": [
    "display(filter_valid_orders(data))"
   ]
  },
  {
   "cell_type": "code",
   "execution_count": null,
   "id": "14735f91",
   "metadata": {},
   "outputs": [],
   "source": [
    "from bs4 import BeautifulSoup\n",
    "import requests\n",
    "\n",
    "result = []\n",
    "page = 1\n",
    "\n",
    "while True :\n",
    "    url = f\"http://books.toscrape.com/catalogue/page-{page}.html\"\n",
    "    print(f\"Scraping page: {page}\")\n",
    "    try:\n",
    "        response = requests.get(url)\n",
    "        soup = BeautifulSoup(response.text, 'html.parser')\n",
    "    except Exception as e :\n",
    "        print(e)\n",
    "\n",
    "    li = soup.find_all('li', class_=\"col-xs-6 col-sm-4 col-md-3 col-lg-3\")\n",
    "\n",
    "    for l in li:\n",
    "        rating = 0\n",
    "        h3 = l.find('h3')\n",
    "        a = h3.find('a')\n",
    "        title = a['title']\n",
    "        div = l.find('div', class_='product_price')\n",
    "        prod = div.find('p')\n",
    "        price = prod.string.lstrip('Â£')\n",
    "        four_star = l.find('p', class_='star-rating Four')\n",
    "        three_star = l.find('p', class_='star-rating Three')\n",
    "        two_star = l.find('p', class_='star-rating Two')\n",
    "        one_star = l.find('p', class_='star-rating One')\n",
    "        five_star = l.find('p', class_='star-rating Five')\n",
    "\n",
    "        if four_star:\n",
    "            rating = 4\n",
    "        elif three_star:\n",
    "            rating = 3\n",
    "        elif two_star:\n",
    "            rating = 2\n",
    "        elif one_star:\n",
    "            rating = 1\n",
    "        elif five_star :\n",
    "            rating = 5\n",
    "        \n",
    "        result.append({'title': title,\n",
    "                        'price': price,\n",
    "                        'star_rating': rating\n",
    "                        })\n",
    "        \n",
    "    if page == 50:\n",
    "        print(f'Reached last page: {page}. Break!')\n",
    "        break\n",
    "    page += 1"
   ]
  },
  {
   "cell_type": "code",
   "execution_count": null,
   "id": "9ccd6ab6",
   "metadata": {},
   "outputs": [
    {
     "data": {
      "text/html": [
       "<div>\n",
       "<style scoped>\n",
       "    .dataframe tbody tr th:only-of-type {\n",
       "        vertical-align: middle;\n",
       "    }\n",
       "\n",
       "    .dataframe tbody tr th {\n",
       "        vertical-align: top;\n",
       "    }\n",
       "\n",
       "    .dataframe thead th {\n",
       "        text-align: right;\n",
       "    }\n",
       "</style>\n",
       "<table border=\"1\" class=\"dataframe\">\n",
       "  <thead>\n",
       "    <tr style=\"text-align: right;\">\n",
       "      <th></th>\n",
       "      <th>title</th>\n",
       "      <th>price</th>\n",
       "      <th>star_rating</th>\n",
       "    </tr>\n",
       "  </thead>\n",
       "  <tbody>\n",
       "    <tr>\n",
       "      <th>0</th>\n",
       "      <td>A Light in the Attic</td>\n",
       "      <td>51.77</td>\n",
       "      <td>3</td>\n",
       "    </tr>\n",
       "    <tr>\n",
       "      <th>1</th>\n",
       "      <td>Tipping the Velvet</td>\n",
       "      <td>53.74</td>\n",
       "      <td>1</td>\n",
       "    </tr>\n",
       "    <tr>\n",
       "      <th>2</th>\n",
       "      <td>Soumission</td>\n",
       "      <td>50.10</td>\n",
       "      <td>1</td>\n",
       "    </tr>\n",
       "    <tr>\n",
       "      <th>3</th>\n",
       "      <td>Sharp Objects</td>\n",
       "      <td>47.82</td>\n",
       "      <td>4</td>\n",
       "    </tr>\n",
       "    <tr>\n",
       "      <th>4</th>\n",
       "      <td>Sapiens: A Brief History of Humankind</td>\n",
       "      <td>54.23</td>\n",
       "      <td>5</td>\n",
       "    </tr>\n",
       "    <tr>\n",
       "      <th>...</th>\n",
       "      <td>...</td>\n",
       "      <td>...</td>\n",
       "      <td>...</td>\n",
       "    </tr>\n",
       "    <tr>\n",
       "      <th>995</th>\n",
       "      <td>Alice in Wonderland (Alice's Adventures in Won...</td>\n",
       "      <td>55.53</td>\n",
       "      <td>1</td>\n",
       "    </tr>\n",
       "    <tr>\n",
       "      <th>996</th>\n",
       "      <td>Ajin: Demi-Human, Volume 1 (Ajin: Demi-Human #1)</td>\n",
       "      <td>57.06</td>\n",
       "      <td>4</td>\n",
       "    </tr>\n",
       "    <tr>\n",
       "      <th>997</th>\n",
       "      <td>A Spy's Devotion (The Regency Spies of London #1)</td>\n",
       "      <td>16.97</td>\n",
       "      <td>5</td>\n",
       "    </tr>\n",
       "    <tr>\n",
       "      <th>998</th>\n",
       "      <td>1st to Die (Women's Murder Club #1)</td>\n",
       "      <td>53.98</td>\n",
       "      <td>1</td>\n",
       "    </tr>\n",
       "    <tr>\n",
       "      <th>999</th>\n",
       "      <td>1,000 Places to See Before You Die</td>\n",
       "      <td>26.08</td>\n",
       "      <td>5</td>\n",
       "    </tr>\n",
       "  </tbody>\n",
       "</table>\n",
       "<p>1000 rows × 3 columns</p>\n",
       "</div>"
      ],
      "text/plain": [
       "                                                 title  price  star_rating\n",
       "0                                 A Light in the Attic  51.77            3\n",
       "1                                   Tipping the Velvet  53.74            1\n",
       "2                                           Soumission  50.10            1\n",
       "3                                        Sharp Objects  47.82            4\n",
       "4                Sapiens: A Brief History of Humankind  54.23            5\n",
       "..                                                 ...    ...          ...\n",
       "995  Alice in Wonderland (Alice's Adventures in Won...  55.53            1\n",
       "996   Ajin: Demi-Human, Volume 1 (Ajin: Demi-Human #1)  57.06            4\n",
       "997  A Spy's Devotion (The Regency Spies of London #1)  16.97            5\n",
       "998                1st to Die (Women's Murder Club #1)  53.98            1\n",
       "999                 1,000 Places to See Before You Die  26.08            5\n",
       "\n",
       "[1000 rows x 3 columns]"
      ]
     },
     "metadata": {},
     "output_type": "display_data"
    },
    {
     "name": "stdout",
     "output_type": "stream",
     "text": [
      "There are 226 books with one star rating. \n",
      "There are 196 books with two stars rating. \n",
      "There are 203 books with three stars rating. \n",
      "There are 179 books with four stars rating. \n",
      "There are 196 with five stars rating.\n",
      " \n",
      "In total there are 1000 books.\n"
     ]
    }
   ],
   "source": [
    "import pandas as pd\n",
    "\n",
    "if page >= 50:\n",
    "\n",
    "    df = pd.DataFrame(result)\n",
    "display(df)\n",
    "\n",
    "def categories(df, rating):\n",
    "\n",
    "    result = df[df['star_rating'] == rating]\n",
    "\n",
    "    return result\n",
    "\n",
    "one_star = len(categories(df, 1))\n",
    "two_star = len(categories(df, 2))\n",
    "three_star = len(categories(df, 3))\n",
    "four_star = len(categories(df, 4))\n",
    "five_star = len(categories(df, 5))\n",
    "\n",
    "tot = (one_star + two_star + three_star + four_star + five_star)\n",
    "\n",
    "print(f'There are {one_star} books with one star rating. \\nThere are {two_star} books with two stars rating. \\nThere are {three_star} books with three stars rating. \\nThere are {four_star} books with four stars rating. \\nThere are {five_star} with five stars rating.')\n",
    "print(' ')\n",
    "print(f'In total there are {tot} books.')"
   ]
  },
  {
   "cell_type": "code",
   "execution_count": null,
   "id": "282e7c30",
   "metadata": {},
   "outputs": [],
   "source": [
    "from datetime import datetime\n",
    "\n",
    "def fetch_job_data(url):\n",
    "\n",
    "    request = requests.get(url)\n",
    "    soup = BeautifulSoup(request.text, 'html.parser')\n",
    "    result = []\n",
    "\n",
    "    for div in soup.find_all('div', class_='column is-half'):\n",
    "\n",
    "        h2 = div.find('h2', class_='title')\n",
    "        title = h2.string.strip()\n",
    "        p = div.find('p', class_='location')\n",
    "        location = p.string.strip()\n",
    "        town = location[:-4]\n",
    "        code = location[-2:]\n",
    "        h3 = div.find('h3', class_='company')\n",
    "        company = h3.string.strip()\n",
    "        grey = div.find('p', class_='is-small')\n",
    "        time = grey.find('time')\n",
    "        date_str = time.string.strip()\n",
    "        date_str = datetime.strptime(date_str, \"%Y-%m-%d\")\n",
    "        a = div.find('footer', class_='card-footer')\n",
    "        href = a.find_all('a')[1]\n",
    "        link = href.get('href')\n",
    "        if link :\n",
    "            url = requests.get(link)\n",
    "            ad = BeautifulSoup(url.text, 'html.parser')\n",
    "            div = ad.find('div', class_='content')\n",
    "            p = div.find('p')\n",
    "            descr = p.string.strip()\n",
    "\n",
    "            result.append({'title': title,\n",
    "                        'company': company,\n",
    "                        'location': town,\n",
    "                        'region': code,\n",
    "                        'date_published': date_str,\n",
    "                        'job_descpition': descr})\n",
    "        \n",
    "    return result"
   ]
  },
  {
   "cell_type": "code",
   "execution_count": 238,
   "id": "5609ab7c",
   "metadata": {},
   "outputs": [
    {
     "data": {
      "text/html": [
       "<div>\n",
       "<style scoped>\n",
       "    .dataframe tbody tr th:only-of-type {\n",
       "        vertical-align: middle;\n",
       "    }\n",
       "\n",
       "    .dataframe tbody tr th {\n",
       "        vertical-align: top;\n",
       "    }\n",
       "\n",
       "    .dataframe thead th {\n",
       "        text-align: right;\n",
       "    }\n",
       "</style>\n",
       "<table border=\"1\" class=\"dataframe\">\n",
       "  <thead>\n",
       "    <tr style=\"text-align: right;\">\n",
       "      <th></th>\n",
       "      <th>title</th>\n",
       "      <th>company</th>\n",
       "      <th>location</th>\n",
       "      <th>region</th>\n",
       "      <th>date_published</th>\n",
       "      <th>job_descpition</th>\n",
       "    </tr>\n",
       "  </thead>\n",
       "  <tbody>\n",
       "    <tr>\n",
       "      <th>0</th>\n",
       "      <td>Senior Python Developer</td>\n",
       "      <td>Payne, Roberts and Davis</td>\n",
       "      <td>Stewartbury</td>\n",
       "      <td>AA</td>\n",
       "      <td>2021-04-08</td>\n",
       "      <td>Professional asset web application environment...</td>\n",
       "    </tr>\n",
       "    <tr>\n",
       "      <th>1</th>\n",
       "      <td>Energy engineer</td>\n",
       "      <td>Vasquez-Davidson</td>\n",
       "      <td>Christopherville</td>\n",
       "      <td>AA</td>\n",
       "      <td>2021-04-08</td>\n",
       "      <td>Party prevent live. Quickly candidate change a...</td>\n",
       "    </tr>\n",
       "    <tr>\n",
       "      <th>2</th>\n",
       "      <td>Legal executive</td>\n",
       "      <td>Jackson, Chambers and Levy</td>\n",
       "      <td>Port Ericaburgh</td>\n",
       "      <td>AA</td>\n",
       "      <td>2021-04-08</td>\n",
       "      <td>Administration even relate head color. Staff b...</td>\n",
       "    </tr>\n",
       "    <tr>\n",
       "      <th>3</th>\n",
       "      <td>Fitness centre manager</td>\n",
       "      <td>Savage-Bradley</td>\n",
       "      <td>East Seanview</td>\n",
       "      <td>AP</td>\n",
       "      <td>2021-04-08</td>\n",
       "      <td>Tv program actually race tonight themselves tr...</td>\n",
       "    </tr>\n",
       "    <tr>\n",
       "      <th>4</th>\n",
       "      <td>Product manager</td>\n",
       "      <td>Ramirez Inc</td>\n",
       "      <td>North Jamieview</td>\n",
       "      <td>AP</td>\n",
       "      <td>2021-04-08</td>\n",
       "      <td>Traditional page a although for study anyone. ...</td>\n",
       "    </tr>\n",
       "  </tbody>\n",
       "</table>\n",
       "</div>"
      ],
      "text/plain": [
       "                     title                     company          location  \\\n",
       "0  Senior Python Developer    Payne, Roberts and Davis       Stewartbury   \n",
       "1          Energy engineer            Vasquez-Davidson  Christopherville   \n",
       "2          Legal executive  Jackson, Chambers and Levy   Port Ericaburgh   \n",
       "3   Fitness centre manager              Savage-Bradley     East Seanview   \n",
       "4          Product manager                 Ramirez Inc   North Jamieview   \n",
       "\n",
       "  region date_published                                     job_descpition  \n",
       "0     AA     2021-04-08  Professional asset web application environment...  \n",
       "1     AA     2021-04-08  Party prevent live. Quickly candidate change a...  \n",
       "2     AA     2021-04-08  Administration even relate head color. Staff b...  \n",
       "3     AP     2021-04-08  Tv program actually race tonight themselves tr...  \n",
       "4     AP     2021-04-08  Traditional page a although for study anyone. ...  "
      ]
     },
     "execution_count": 238,
     "metadata": {},
     "output_type": "execute_result"
    }
   ],
   "source": [
    "\n",
    "url = 'https://realpython.github.io/fake-jobs/'\n",
    "\n",
    "r = fetch_job_data(url)\n",
    "df = pd.DataFrame(r)\n",
    "df.head()"
   ]
  }
 ],
 "metadata": {
  "kernelspec": {
   "display_name": "venv",
   "language": "python",
   "name": "python3"
  },
  "language_info": {
   "codemirror_mode": {
    "name": "ipython",
    "version": 3
   },
   "file_extension": ".py",
   "mimetype": "text/x-python",
   "name": "python",
   "nbconvert_exporter": "python",
   "pygments_lexer": "ipython3",
   "version": "3.12.7"
  }
 },
 "nbformat": 4,
 "nbformat_minor": 5
}
