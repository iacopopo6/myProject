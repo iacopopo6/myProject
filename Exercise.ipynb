{
 "cells": [
  {
   "cell_type": "code",
   "execution_count": 13,
   "id": "00166fc8",
   "metadata": {},
   "outputs": [],
   "source": [
    "\n",
    "from collections import defaultdict\n",
    "\n",
    "text = \"data engineering is cool and data is powerful\"\n",
    "\n",
    "def word_frequency(text: str) -> dict:\n",
    "    \n",
    "    result = {}\n",
    "\n",
    "    for w in text.split():\n",
    "\n",
    "        if w in result:\n",
    "    \n",
    "            result[w] +=1\n",
    "        else:\n",
    "            result[w] = 1\n",
    "\n",
    "    return result\n",
    "        "
   ]
  },
  {
   "cell_type": "code",
   "execution_count": null,
   "id": "57868ba9",
   "metadata": {},
   "outputs": [
    {
     "name": "stdout",
     "output_type": "stream",
     "text": [
      "{'data': 2, 'engineering': 1, 'is': 2, 'cool': 1, 'and': 1, 'powerful': 1}\n"
     ]
    }
   ],
   "source": [
    "word_frequency(text)"
   ]
  },
  {
   "cell_type": "code",
   "execution_count": 45,
   "id": "bc474fe2",
   "metadata": {},
   "outputs": [],
   "source": [
    "emails = [\n",
    "    \"alice@gmail.com\",\n",
    "    \"bob@yahoo.com\",\n",
    "    \"carol@gmail.com\",\n",
    "    \"dan@outlook.com\",\n",
    "    \"erin@yahoo.com\",\n",
    "    \"frank@gmail.com\"\n",
    "]\n",
    "\n",
    "def count_domains(emails: list[str]) -> dict:\n",
    "\n",
    "    result = {}\n",
    "\n",
    "    for email in emails :\n",
    "\n",
    "        dom = email.split(\"@\")\n",
    "        dom = dom[1]\n",
    "        if dom in result:\n",
    "            result[dom] +=1\n",
    "        else:\n",
    "            result[dom] = 1\n",
    "\n",
    "    return result"
   ]
  },
  {
   "cell_type": "code",
   "execution_count": 46,
   "id": "becb1657",
   "metadata": {},
   "outputs": [
    {
     "data": {
      "text/plain": [
       "{'gmail.com': 3, 'yahoo.com': 2, 'outlook.com': 1}"
      ]
     },
     "execution_count": 46,
     "metadata": {},
     "output_type": "execute_result"
    }
   ],
   "source": [
    "count_domains(emails)"
   ]
  },
  {
   "cell_type": "code",
   "execution_count": 87,
   "id": "3b785c4b",
   "metadata": {},
   "outputs": [],
   "source": [
    "text = \"Data engineering delivers durable and dynamic data pipelines daily.\"\n",
    "\n",
    "def count_first_letters(text: str) -> dict:\n",
    "\n",
    "    result = {}\n",
    "\n",
    "    for word in text.split():\n",
    "        clean_word = word.lower().strip(\".,!?\")\n",
    "        \n",
    "        first_letter = clean_word[0]\n",
    "\n",
    "        if first_letter in result:\n",
    "            result[first_letter] += 1\n",
    "        else:\n",
    "            result[first_letter] = 1\n",
    "\n",
    "    return result    \n",
    "            "
   ]
  },
  {
   "cell_type": "code",
   "execution_count": 88,
   "id": "8d9a5017",
   "metadata": {},
   "outputs": [
    {
     "data": {
      "text/plain": [
       "{'d': 6, 'e': 1, 'a': 1, 'p': 1}"
      ]
     },
     "execution_count": 88,
     "metadata": {},
     "output_type": "execute_result"
    }
   ],
   "source": [
    "count_first_letters(text)"
   ]
  },
  {
   "cell_type": "code",
   "execution_count": 103,
   "id": "8573d549",
   "metadata": {},
   "outputs": [],
   "source": [
    "\n",
    "def count_word_lengths(text: str) -> dict:\n",
    "    \n",
    "    result = {}\n",
    "\n",
    "    for w in text.split():\n",
    "        count = len(w)\n",
    "\n",
    "        result[w] = count\n",
    "    \n",
    "    return result\n"
   ]
  },
  {
   "cell_type": "code",
   "execution_count": 104,
   "id": "f2766305",
   "metadata": {},
   "outputs": [
    {
     "data": {
      "text/plain": [
       "{'Data': 4,\n",
       " 'engineering': 11,\n",
       " 'delivers': 8,\n",
       " 'durable': 7,\n",
       " 'and': 3,\n",
       " 'dynamic': 7,\n",
       " 'data': 4,\n",
       " 'pipelines': 9,\n",
       " 'daily.': 6}"
      ]
     },
     "execution_count": 104,
     "metadata": {},
     "output_type": "execute_result"
    }
   ],
   "source": [
    "count_word_lengths(text)"
   ]
  },
  {
   "cell_type": "code",
   "execution_count": null,
   "id": "60fdf82f",
   "metadata": {},
   "outputs": [],
   "source": [
    "files = [\n",
    "    \"data.csv\", \"report.pdf\", \"image.png\", \"archive.zip\",\n",
    "    \"data_backup.csv\", \"notes.txt\", \"slides.pdf\", \"image2.png\"\n",
    "]\n",
    "\n",
    "def count_extensions(files: list[str]) -> dict:\n",
    "    \n",
    "    result = {}\n",
    "\n",
    "    for file in files:\n",
    "        type = file[-3:]\n",
    "        if type in result:\n",
    "            result[type] +=1\n",
    "        else:\n",
    "            result[type] = 1\n",
    "    \n",
    "    return result"
   ]
  },
  {
   "cell_type": "code",
   "execution_count": null,
   "id": "0c392b83",
   "metadata": {},
   "outputs": [
    {
     "data": {
      "text/plain": [
       "{'csv': 2, 'pdf': 2, 'png': 2, 'zip': 1, 'txt': 1}"
      ]
     },
     "execution_count": 122,
     "metadata": {},
     "output_type": "execute_result"
    }
   ],
   "source": [
    "count_extensions(files)"
   ]
  },
  {
   "cell_type": "code",
   "execution_count": 131,
   "id": "d91d996f",
   "metadata": {},
   "outputs": [],
   "source": [
    "logs = [\n",
    "    \"2024-05-21 12:45:03 INFO Starting ETL job\",\n",
    "    \"2024-05-21 12:45:04 DEBUG Extracting data\",\n",
    "    \"2024-05-21 12:45:10 ERROR Failed to connect to database\",\n",
    "    \"2024-05-21 12:45:12 INFO Retrying connection\",\n",
    "    \"2024-05-21 12:45:15 ERROR Timeout occurred\",\n",
    "    \"2024-05-21 12:45:18 DEBUG Retrying...\",\n",
    "    \"2024-05-21 12:45:20 INFO ETL job completed\"\n",
    "]\n",
    "\n",
    "def count_log_levels(logs: list[str]) -> dict:\n",
    "\n",
    "    result = {}\n",
    "\n",
    "    for s in logs:\n",
    "        s = s.split()\n",
    "        log = s[2]\n",
    "        if log in result:\n",
    "            result[log] +=1\n",
    "        else:\n",
    "            result[log] = 1\n",
    "    \n",
    "    return result\n"
   ]
  },
  {
   "cell_type": "code",
   "execution_count": 132,
   "id": "a5b15c4a",
   "metadata": {},
   "outputs": [
    {
     "data": {
      "text/plain": [
       "{'INFO': 3, 'DEBUG': 2, 'ERROR': 2}"
      ]
     },
     "execution_count": 132,
     "metadata": {},
     "output_type": "execute_result"
    }
   ],
   "source": [
    "count_log_levels(logs)"
   ]
  },
  {
   "cell_type": "code",
   "execution_count": 158,
   "id": "00fcd1e5",
   "metadata": {},
   "outputs": [],
   "source": [
    "from datetime import date , datetime \n",
    "\n",
    "dates = [\n",
    "    \"2024-05-01\", \"2024-05-21\", \"2024-06-03\",\n",
    "    \"2024-06-10\", \"2024-07-04\", \"2024-05-18\"\n",
    "]\n",
    "\n",
    "def count_months(dates: list[str]) -> dict:\n",
    "    \n",
    "    result = {}\n",
    "\n",
    "    for date in dates:\n",
    "\n",
    "        dates = date.split('-')\n",
    "        month = dates[1]\n",
    "        if month in result:\n",
    "            result[month] += [date]\n",
    "        else:\n",
    "            result[month] = [date]\n",
    "    return result\n",
    "        "
   ]
  },
  {
   "cell_type": "code",
   "execution_count": 159,
   "id": "b7a075d3",
   "metadata": {},
   "outputs": [
    {
     "data": {
      "text/plain": [
       "{'05': ['2024-05-01', '2024-05-21', '2024-05-18'],\n",
       " '06': ['2024-06-03', '2024-06-10'],\n",
       " '07': ['2024-07-04']}"
      ]
     },
     "execution_count": 159,
     "metadata": {},
     "output_type": "execute_result"
    }
   ],
   "source": [
    "count_months(dates)"
   ]
  },
  {
   "cell_type": "code",
   "execution_count": 305,
   "id": "c86e97fc",
   "metadata": {},
   "outputs": [],
   "source": [
    "logs = [\n",
    "    \"2025-06-01 08:45:00 user:alice action:login\",\n",
    "    \"2025-06-01 09:12:14 user:bob action:view\",\n",
    "    \"2025-06-01 09:18:09 user:alice action:view\",\n",
    "    \"2025-06-01 10:05:30 user:carol action:logout\",\n",
    "    \"2025-06-01 10:15:45 user:bob action:logout\",\n",
    "    \"2025-06-01 10:18:02 user:alice action:logout\"\n",
    "]\n",
    "\n",
    "def group_actions_by_user(logs: list[str]) -> dict:\n",
    "\n",
    "    result = {}\n",
    "\n",
    "    for log in logs:\n",
    "\n",
    "        split = log.split()\n",
    "        user = split[2]\n",
    "        user = user.lstrip('user:')\n",
    "        action = split[3]\n",
    "        action = action.lstrip('action:')\n",
    "        if user not in result:\n",
    "            result[user] = []\n",
    "            result[user].append(action)\n",
    "        else: \n",
    "            result[user].append(action)\n",
    "        \n",
    "    return result\n"
   ]
  },
  {
   "cell_type": "code",
   "execution_count": 304,
   "id": "dfad0619",
   "metadata": {},
   "outputs": [
    {
     "data": {
      "text/plain": [
       "{'alice': ['login', 'view', 'logout'],\n",
       " 'bob': ['view', 'logout'],\n",
       " 'carol': ['logout']}"
      ]
     },
     "execution_count": 304,
     "metadata": {},
     "output_type": "execute_result"
    }
   ],
   "source": [
    "group_actions_by_user(logs)"
   ]
  },
  {
   "cell_type": "code",
   "execution_count": 306,
   "id": "29eb41b2",
   "metadata": {},
   "outputs": [],
   "source": [
    "def group_by_date_and_user(logs: list[str]) -> dict:\n",
    "\n",
    "    result = {}\n",
    "\n",
    "    for log in logs:\n",
    "        split = log.split()\n",
    "        ex_date = split[0]\n",
    "        user = split[2]\n",
    "        user = user.lstrip('user:')\n",
    "        action = split[3]\n",
    "        action = action.lstrip('action:')\n",
    "        if ex_date not in result:\n",
    "            result[ex_date] = {}\n",
    "        if user not in result[ex_date]:\n",
    "\n",
    "            result[ex_date][user] = []\n",
    "        \n",
    "        result[ex_date][user].append(action)\n",
    "            \n",
    "        \n",
    "    return result\n",
    "    "
   ]
  },
  {
   "cell_type": "code",
   "execution_count": 307,
   "id": "5296f8df",
   "metadata": {},
   "outputs": [
    {
     "data": {
      "text/plain": [
       "{'2025-06-01': {'alice': ['login', 'view', 'logout'],\n",
       "  'bob': ['view', 'logout'],\n",
       "  'carol': ['logout']}}"
      ]
     },
     "execution_count": 307,
     "metadata": {},
     "output_type": "execute_result"
    }
   ],
   "source": [
    "group_by_date_and_user(logs)"
   ]
  },
  {
   "cell_type": "code",
   "execution_count": null,
   "id": "f5246bf6",
   "metadata": {},
   "outputs": [],
   "source": [
    "def count_logins_by_user(logs: list[str]) -> dict:\n",
    "\n",
    "    result = {}\n",
    "\n",
    "    for log in logs:\n",
    "        split = log.split()\n",
    "        user = split[2]\n",
    "        user = user.lstrip('user:')\n",
    "        action = split[3]\n",
    "        action = action.lstrip('action:')\n",
    "        if action == 'login':\n",
    "            if user in result:\n",
    "                result[user] += 1\n",
    "            else:\n",
    "                result[user] = 1\n",
    "    return result"
   ]
  },
  {
   "cell_type": "code",
   "execution_count": 329,
   "id": "43bd329c",
   "metadata": {},
   "outputs": [
    {
     "data": {
      "text/plain": [
       "{'alice': 1}"
      ]
     },
     "execution_count": 329,
     "metadata": {},
     "output_type": "execute_result"
    }
   ],
   "source": [
    "count_logins_by_user(logs)\n"
   ]
  },
  {
   "cell_type": "code",
   "execution_count": 368,
   "id": "a2e98fd5",
   "metadata": {},
   "outputs": [],
   "source": [
    "\n",
    "api_response = {\n",
    "    \"users\": [\n",
    "        {\n",
    "            \"id\": 1,\n",
    "            \"name\": \"Alice\",\n",
    "            \"activities\": [\n",
    "                {\"type\": \"login\", \"timestamp\": \"2025-06-01T08:00:00\"},\n",
    "                {\"type\": \"view\", \"timestamp\": \"2025-06-01T08:05:00\"},\n",
    "                {\"type\": \"logout\", \"timestamp\": \"2025-06-01T08:10:00\"}\n",
    "            ]\n",
    "        },\n",
    "        {\n",
    "            \"id\": 2,\n",
    "            \"name\": \"Bob\",\n",
    "            \"activities\": [\n",
    "                {\"type\": \"login\", \"timestamp\": \"2025-06-01T09:00:00\"},\n",
    "                {\"type\": \"view\", \"timestamp\": \"2025-06-01T09:05:00\"}\n",
    "            ]\n",
    "        }\n",
    "    ]\n",
    "}\n",
    "\n",
    "def transform_user_activity(api_response: dict) -> list[dict]:\n",
    "\n",
    "    result = []\n",
    "\n",
    "    for user in api_response.get(\"users\"):\n",
    "\n",
    "        user_id = user[\"id\"]\n",
    "        user_name = user[\"name\"]\n",
    "\n",
    "        for activity in user[\"activities\"]:\n",
    "\n",
    "            activity_type = activity[\"type\"]\n",
    "            activity_time = activity[\"timestamp\"]\n",
    "\n",
    "            result.append({\"user_id\": user_id,\n",
    "                           \"user_name\": user_name,\n",
    "                           \"activity_type\": activity_type,\n",
    "                           \"activity_time\": activity_time})\n",
    "            \n",
    "    return result\n",
    "        \n"
   ]
  },
  {
   "cell_type": "code",
   "execution_count": null,
   "id": "044481b6",
   "metadata": {},
   "outputs": [
    {
     "data": {
      "text/plain": [
       "[{'user_id': 1,\n",
       "  'user_name': 'Alice',\n",
       "  'activity_type': 'login',\n",
       "  'activity_time': '2025-06-01T08:00:00'},\n",
       " {'user_id': 1,\n",
       "  'user_name': 'Alice',\n",
       "  'activity_type': 'view',\n",
       "  'activity_time': '2025-06-01T08:05:00'},\n",
       " {'user_id': 1,\n",
       "  'user_name': 'Alice',\n",
       "  'activity_type': 'logout',\n",
       "  'activity_time': '2025-06-01T08:10:00'},\n",
       " {'user_id': 2,\n",
       "  'user_name': 'Bob',\n",
       "  'activity_type': 'login',\n",
       "  'activity_time': '2025-06-01T09:00:00'},\n",
       " {'user_id': 2,\n",
       "  'user_name': 'Bob',\n",
       "  'activity_type': 'view',\n",
       "  'activity_time': '2025-06-01T09:05:00'}]"
      ]
     },
     "execution_count": 369,
     "metadata": {},
     "output_type": "execute_result"
    }
   ],
   "source": [
    "transform_user_activity(api_response)"
   ]
  },
  {
   "cell_type": "code",
   "execution_count": 1,
   "id": "ea564867",
   "metadata": {},
   "outputs": [],
   "source": [
    "api_response = {\n",
    "    \"customers\": [\n",
    "        {\n",
    "            \"id\": 1,\n",
    "            \"name\": \"Alice\",\n",
    "            \"orders\": [\n",
    "                {\n",
    "                    \"order_id\": 101,\n",
    "                    \"items\": [\n",
    "                        {\"product\": \"Laptop\", \"price\": 1200, \"quantity\": 1, \"discount\": 0.1},\n",
    "                        {\"product\": \"Mouse\", \"price\": 25, \"quantity\": 2, \"discount\": 0}\n",
    "                    ]\n",
    "                },\n",
    "                {\n",
    "                    \"order_id\": 102,\n",
    "                    \"items\": [\n",
    "                        {\"product\": \"Keyboard\", \"price\": 75, \"quantity\": 1, \"discount\": 0.05}\n",
    "                    ]\n",
    "                }\n",
    "            ]\n",
    "        },\n",
    "        {\n",
    "            \"id\": 2,\n",
    "            \"name\": \"Bob\",\n",
    "            \"orders\": [\n",
    "                {\n",
    "                    \"order_id\": 103,\n",
    "                    \"items\": [\n",
    "                        {\"product\": \"Monitor\", \"price\": 200, \"quantity\": 2, \"discount\": 0.15}\n",
    "                    ]\n",
    "                }\n",
    "            ]\n",
    "        }\n",
    "    ]\n",
    "}\n",
    "\n",
    "def transform_and_aggregate_orders(api_response: dict) -> tuple[list[dict], dict]:\n",
    "    \n",
    "    result = []\n",
    "    total_spent = {}\n",
    "\n",
    "    for customer in api_response.get(\"customers\"):\n",
    "        id = customer[\"id\"]\n",
    "        name = customer[\"name\"]\n",
    "\n",
    "        for order in customer[\"orders\"]:\n",
    "            order_id = order[\"order_id\"]\n",
    "            items = order[\"items\"]\n",
    "            for item in items:\n",
    "                product = item['product']\n",
    "                price = item['price']\n",
    "                quantity = item['quantity']\n",
    "                discount = item['discount']\n",
    "                price_discounted = price * discount\n",
    "                final_price = (price - price_discounted) * quantity\n",
    "                \n",
    "                if name in total_spent :\n",
    "                    total_spent[name] += final_price\n",
    "                else:\n",
    "                    total_spent[name] = final_price\n",
    "\n",
    "                result.append({\"customer_id\": id,\n",
    "                               'customer_name': name,\n",
    "                               'order_id': order_id,\n",
    "                               'product': product,\n",
    "                               'quantity': quantity,\n",
    "                               'price': price,\n",
    "                               'discount': discount,\n",
    "                               'final_price': final_price})\n",
    "        \n",
    "    return  result , total_spent"
   ]
  },
  {
   "cell_type": "code",
   "execution_count": 2,
   "id": "fb00d6b6",
   "metadata": {},
   "outputs": [
    {
     "data": {
      "text/plain": [
       "([{'customer_id': 1,\n",
       "   'customer_name': 'Alice',\n",
       "   'order_id': 101,\n",
       "   'product': 'Laptop',\n",
       "   'quantity': 1,\n",
       "   'price': 1200,\n",
       "   'discount': 0.1,\n",
       "   'final_price': 1080.0},\n",
       "  {'customer_id': 1,\n",
       "   'customer_name': 'Alice',\n",
       "   'order_id': 101,\n",
       "   'product': 'Mouse',\n",
       "   'quantity': 2,\n",
       "   'price': 25,\n",
       "   'discount': 0,\n",
       "   'final_price': 50},\n",
       "  {'customer_id': 1,\n",
       "   'customer_name': 'Alice',\n",
       "   'order_id': 102,\n",
       "   'product': 'Keyboard',\n",
       "   'quantity': 1,\n",
       "   'price': 75,\n",
       "   'discount': 0.05,\n",
       "   'final_price': 71.25},\n",
       "  {'customer_id': 2,\n",
       "   'customer_name': 'Bob',\n",
       "   'order_id': 103,\n",
       "   'product': 'Monitor',\n",
       "   'quantity': 2,\n",
       "   'price': 200,\n",
       "   'discount': 0.15,\n",
       "   'final_price': 340.0}],\n",
       " {'Alice': 1201.25, 'Bob': 340.0})"
      ]
     },
     "execution_count": 2,
     "metadata": {},
     "output_type": "execute_result"
    }
   ],
   "source": [
    "transform_and_aggregate_orders(api_response)"
   ]
  },
  {
   "cell_type": "code",
   "execution_count": null,
   "id": "2fa59dae",
   "metadata": {},
   "outputs": [],
   "source": [
    "from bs4 import BeautifulSoup\n",
    "\n",
    "html_content = \"\"\"\n",
    "<html>\n",
    "  <head><title>Fake Store</title></head>\n",
    "  <body>\n",
    "    <div class=\"product\" data-id=\"101\">\n",
    "      <h2 class=\"name\">Wireless Mouse</h2>\n",
    "      <span class=\"price\">$25.99</span>\n",
    "    </div>\n",
    "    <div class=\"product\" data-id=\"102\">\n",
    "      <h2 class=\"name\">Mechanical Keyboard</h2>\n",
    "      <span class=\"price\">$79.49</span>\n",
    "    </div>\n",
    "    <div class=\"product\" data-id=\"103\">\n",
    "      <h2 class=\"name\">USB-C Hub</h2>\n",
    "      <span class=\"price\">$34.10</span>\n",
    "    </div>\n",
    "  </body>\n",
    "</html>\n",
    "\"\"\"\n",
    "\n",
    "def extract_products(html: str) -> list[dict]:\n",
    "    result = []\n",
    "    soup = BeautifulSoup(html, 'html.parser')\n",
    "\n",
    "    for div in soup.find_all('div', class_=\"product\"):\n",
    "        data_id = div.get(\"data-id\")\n",
    "        h2 = div.find('h2', class_=\"name\")\n",
    "        span = div.find('span', class_='price')\n",
    "\n",
    "        product = h2.string.strip()\n",
    "        price = float(span.string.lstrip('$'))\n",
    "\n",
    "        result.append({\n",
    "            'id': data_id,\n",
    "            'product': product,\n",
    "            'price': price\n",
    "        })\n",
    "\n",
    "    return result\n"
   ]
  },
  {
   "cell_type": "code",
   "execution_count": 40,
   "id": "76b2b522",
   "metadata": {},
   "outputs": [
    {
     "data": {
      "text/plain": [
       "[{'id': '101', 'product': 'Wireless Mouse', 'price': 25.99},\n",
       " {'id': '102', 'product': 'Mechanical Keyboard', 'price': 79.49},\n",
       " {'id': '103', 'product': 'USB-C Hub', 'price': 34.1}]"
      ]
     },
     "execution_count": 40,
     "metadata": {},
     "output_type": "execute_result"
    }
   ],
   "source": [
    "extract_products(html_content)"
   ]
  },
  {
   "cell_type": "code",
   "execution_count": 69,
   "id": "91cc9dea",
   "metadata": {},
   "outputs": [],
   "source": [
    "html_content = \"\"\"\n",
    "<html>\n",
    "  <head><title>Fake Store</title></head>\n",
    "  <body>\n",
    "    <div class=\"product\" data-id=\"101\">\n",
    "      <h2 class=\"name\">Wireless Mouse</h2>\n",
    "      <span class=\"price\">$25.99</span>\n",
    "    </div>\n",
    "    <div class=\"product\" data-id=\"102\">\n",
    "      <h2 class=\"name\">Mechanical Keyboard</h2>\n",
    "      <span class=\"price\">$79.49</span>\n",
    "    </div>\n",
    "    <div class=\"product\" data-id=\"103\">\n",
    "      <h2 class=\"name\">usb-c hub</h2>\n",
    "      <span class=\"price\">$34.10</span>\n",
    "    </div>\n",
    "    <div class=\"product\" data-id=\"104\">\n",
    "      <h2 class=\"name\">Budget Mouse</h2>\n",
    "      <span class=\"price\">$12.99</span>\n",
    "    </div>\n",
    "  </body>\n",
    "</html>\n",
    "\"\"\"\n",
    "def extract_products(html: str) -> list[dict]:\n",
    "    \"\"\"\n",
    "    Parses raw HTML and returns raw product info with 'id', 'name', 'price' as strings.\n",
    "    Example: {\"id\": \"101\", \"name\": \"Wireless Mouse\", \"price\": \"$25.99\"}\n",
    "    \"\"\"\n",
    "\n",
    "    result = []\n",
    "\n",
    "    soup = BeautifulSoup(html, 'html')\n",
    "\n",
    "    for div in soup.find_all('div', class_=\"product\"):\n",
    "\n",
    "        id = div.get('data-id')\n",
    "        h2 = div.find('h2', class_=\"name\")\n",
    "        product = h2.string.strip()\n",
    "        span = div.find('span', class_=\"price\")\n",
    "        price = span.string.lstrip('$')\n",
    "        \n",
    "        result.append({'id': id,\n",
    "                      'product': product,\n",
    "                      'price': price})\n",
    "    \n",
    "    return result\n",
    "\n",
    "def format_products(raw_products: list[dict]) -> list[dict]:\n",
    "    \"\"\"\n",
    "    Takes raw product records and returns cleaned ones:\n",
    "    - 'id' stays as string\n",
    "    - 'name' is title-cased\n",
    "    - 'price' is a float\n",
    "    \"\"\"\n"
   ]
  },
  {
   "cell_type": "code",
   "execution_count": null,
   "id": "c2ed679c",
   "metadata": {},
   "outputs": [],
   "source": [
    "raw_products = extract_products(html_content)\n",
    "raw_products"
   ]
  },
  {
   "cell_type": "code",
   "execution_count": 122,
   "id": "378d52f7",
   "metadata": {},
   "outputs": [],
   "source": [
    "def format_products(raw_products: list[dict]) -> list[dict]:\n",
    "    \"\"\"\n",
    "    Takes raw product records and returns cleaned ones:\n",
    "    - 'id' stays as string\n",
    "    - 'name' is title-cased\n",
    "    - 'price' is a float\n",
    "    \"\"\"\n",
    "    result = []\n",
    "\n",
    "    for product in raw_products:\n",
    "\n",
    "        id = product['id']\n",
    "        cap = product['product']\n",
    "        cap = cap.capitalize()\n",
    "        price = product['price']\n",
    "        price_float = float(price)\n",
    "\n",
    "        result.append({'id': id,\n",
    "                      'product': cap,\n",
    "                      'price': price_float})\n",
    "    \n",
    "    return result"
   ]
  },
  {
   "cell_type": "code",
   "execution_count": 123,
   "id": "86df8876",
   "metadata": {},
   "outputs": [
    {
     "data": {
      "text/plain": [
       "[{'id': '101', 'product': 'Wireless mouse', 'price': 25.99},\n",
       " {'id': '102', 'product': 'Mechanical keyboard', 'price': 79.49},\n",
       " {'id': '103', 'product': 'Usb-c hub', 'price': 34.1},\n",
       " {'id': '104', 'product': 'Budget mouse', 'price': 12.99}]"
      ]
     },
     "execution_count": 123,
     "metadata": {},
     "output_type": "execute_result"
    }
   ],
   "source": [
    "products = format_products(raw_products)\n",
    "products"
   ]
  },
  {
   "cell_type": "code",
   "execution_count": null,
   "id": "b7de59ca",
   "metadata": {},
   "outputs": [],
   "source": [
    "def group_by_price_range(products: list[dict]) -> dict:\n",
    "    \"\"\"\n",
    "    Groups products into 'budget', 'midrange', or 'premium' buckets based on price:\n",
    "    - budget: < $30\n",
    "    - midrange: $30–$60\n",
    "    - premium: > $60\n",
    "    Returns a dictionary with three keys, each mapping to a list of product dicts.\n",
    "    \"\"\"\n",
    "    result = {'budget': [],\n",
    "              'midrange': [],\n",
    "              'premium': []}\n",
    "\n",
    "    for product in products:\n",
    "\n",
    "        price = product['price']\n",
    "        \n",
    "        if price < 30 :\n",
    "            result['budget'].append(product)\n",
    "        \n",
    "        if price >= 30 and price < 60 :\n",
    "            result['midrange'].append(product)\n",
    "\n",
    "        if price >= 60:\n",
    "            result['premium'].append(product)\n",
    "    \n",
    "    return result"
   ]
  },
  {
   "cell_type": "code",
   "execution_count": 137,
   "id": "9d7bff89",
   "metadata": {},
   "outputs": [
    {
     "data": {
      "text/plain": [
       "{'budget': [{'id': '101', 'product': 'Wireless mouse', 'price': 25.99},\n",
       "  {'id': '104', 'product': 'Budget mouse', 'price': 12.99}],\n",
       " 'midrange': [{'id': '103', 'product': 'Usb-c hub', 'price': 34.1}],\n",
       " 'premium': [{'id': '102', 'product': 'Mechanical keyboard', 'price': 79.49}]}"
      ]
     },
     "execution_count": 137,
     "metadata": {},
     "output_type": "execute_result"
    }
   ],
   "source": [
    "group_by_price_range(products)"
   ]
  }
 ],
 "metadata": {
  "kernelspec": {
   "display_name": "venv",
   "language": "python",
   "name": "python3"
  },
  "language_info": {
   "codemirror_mode": {
    "name": "ipython",
    "version": 3
   },
   "file_extension": ".py",
   "mimetype": "text/x-python",
   "name": "python",
   "nbconvert_exporter": "python",
   "pygments_lexer": "ipython3",
   "version": "3.12.7"
  }
 },
 "nbformat": 4,
 "nbformat_minor": 5
}
