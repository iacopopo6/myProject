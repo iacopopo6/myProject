{
 "cells": [
  {
   "cell_type": "code",
   "execution_count": null,
   "id": "6dcf0cd9",
   "metadata": {},
   "outputs": [],
   "source": [
    "import pandas as pd\n",
    "import random as rn\n",
    "import matplotlib.pyplot as plt\n",
    "import numpy as np\n",
    "from dataclasses import make_dataclass\n",
    "from functools import partial\n",
    "import datetime"
   ]
  }
 ],
 "metadata": {
  "language_info": {
   "name": "python"
  }
 },
 "nbformat": 4,
 "nbformat_minor": 5
}
